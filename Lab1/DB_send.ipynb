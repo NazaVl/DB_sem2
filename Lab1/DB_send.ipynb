{
 "cells": [
  {
   "cell_type": "code",
   "execution_count": 16,
   "metadata": {},
   "outputs": [],
   "source": [
    "from concurrent.futures import ThreadPoolExecutor\n",
    "import psycopg2\n",
    "import time\n",
    "from random import randint"
   ]
  },
  {
   "cell_type": "code",
   "execution_count": 17,
   "metadata": {},
   "outputs": [],
   "source": [
    "#DB_PARAMS = (\"dbname=pgLab1 user=postgres host=localhost\")"
   ]
  },
  {
   "cell_type": "code",
   "execution_count": 39,
   "metadata": {},
   "outputs": [],
   "source": [
    "conn = psycopg2.connect(DB_PARAMS)\n",
    "cur = conn.cursor()\n",
    "\n",
    "for _ in range(100_000):\n",
    "    cur.execute(\"INSERT INTO user_counter(counter, version) VALUES(0, 0)\")\n",
    "    \n",
    "conn.commit()\n",
    "cur.close()\n",
    "conn.close()"
   ]
  },
  {
   "cell_type": "code",
   "execution_count": 19,
   "metadata": {},
   "outputs": [
    {
     "name": "stdout",
     "output_type": "stream",
     "text": [
      "Кількість записів в базі даних = 1\n"
     ]
    }
   ],
   "source": [
    "conn = psycopg2.connect(DB_PARAMS)\n",
    "cur = conn.cursor()\n",
    "\n",
    "cur.execute(\"SELECT COUNT(*) FROM user_counter\")\n",
    "values_count = cur.fetchone()[0]\n",
    "\n",
    "cur.close()\n",
    "conn.close()\n",
    "\n",
    "#print(f\"Кількість записів в базі даних = {values_count}\")"
   ]
  },
  {
   "cell_type": "code",
   "execution_count": 20,
   "metadata": {},
   "outputs": [],
   "source": [
    "def restart_db():\n",
    "    conn = psycopg2.connect(DB_PARAMS)\n",
    "    cursor = conn.cursor()\n",
    "\n",
    "    cursor.execute(\"UPDATE user_counter SET counter = 0, version = 0\" )\n",
    "    conn.commit()\n",
    "    \n",
    "    cursor.close()\n",
    "    conn.close()"
   ]
  },
  {
   "cell_type": "code",
   "execution_count": 21,
   "metadata": {},
   "outputs": [],
   "source": [
    "def print_time_counter(update_counter, id):\n",
    "    start_time = time.time()\n",
    "    with ThreadPoolExecutor(max_workers=10) as executor:\n",
    "        executor.map(update_counter, [id for _ in range(10)])\n",
    "\n",
    "    print(\"--- %s seconds ---\" % (time.time() - start_time))\n",
    "\n",
    "    conn = psycopg2.connect(DB_PARAMS)\n",
    "    cur = conn.cursor()\n",
    "    cur.execute(\"SELECT counter FROM user_counter WHERE user_id = %s;\", (id,))\n",
    "    counter = cur.fetchone()[0]\n",
    "    print(f\"Кінцеве значення каунтера = {counter}, для user_id = {id}\")"
   ]
  },
  {
   "cell_type": "markdown",
   "metadata": {},
   "source": [
    "Lost-update"
   ]
  },
  {
   "cell_type": "code",
   "execution_count": 23,
   "metadata": {},
   "outputs": [],
   "source": [
    "def lost_update(id):\n",
    "    \n",
    "    conn = psycopg2.connect(DB_PARAMS)\n",
    "    cur = conn.cursor()\n",
    "    \n",
    "    for _ in range(10_000):\n",
    "        cur.execute(\"SELECT counter FROM user_counter WHERE user_id = %s\", (id,))\n",
    "        counter = cur.fetchone()[0] \n",
    "        counter += 1  \n",
    "        \n",
    "        cur.execute(\"UPDATE user_counter SET counter = %s WHERE user_id = %s\", (counter, id))\n",
    "        conn.commit() \n",
    "\n",
    "    cur.close()\n",
    "    conn.close()"
   ]
  },
  {
   "cell_type": "code",
   "execution_count": 24,
   "metadata": {},
   "outputs": [
    {
     "name": "stdout",
     "output_type": "stream",
     "text": [
      "--- 13.924264192581177 seconds ---\n",
      "Кінцеве значення каунтера = 10563, для user_id = 1\n"
     ]
    }
   ],
   "source": [
    "restart_db()\n",
    "print_time_counter(lost_update, 1)"
   ]
  },
  {
   "cell_type": "markdown",
   "metadata": {},
   "source": [
    "In-place update\n"
   ]
  },
  {
   "cell_type": "code",
   "execution_count": 27,
   "metadata": {},
   "outputs": [],
   "source": [
    "def in_place_update(id):\n",
    "   \n",
    "    conn = psycopg2.connect(DB_PARAMS)\n",
    "    cur = conn.cursor()\n",
    "    \n",
    "    for _ in range(10_000):        \n",
    "        cur.execute(\"UPDATE user_counter SET counter = counter + 1 WHERE user_id = %s\", (id,))\n",
    "        conn.commit() \n",
    "\n",
    "    cur.close()\n",
    "    conn.close()"
   ]
  },
  {
   "cell_type": "code",
   "execution_count": 28,
   "metadata": {},
   "outputs": [
    {
     "name": "stdout",
     "output_type": "stream",
     "text": [
      "--- 13.195969343185425 seconds ---\n",
      "Кінцеве значення каунтера = 100000, для user_id = 1\n"
     ]
    }
   ],
   "source": [
    "restart_db()\n",
    "print_time_counter(in_place_update, 1)"
   ]
  },
  {
   "cell_type": "markdown",
   "metadata": {},
   "source": [
    "Row-level locking"
   ]
  },
  {
   "cell_type": "code",
   "execution_count": 31,
   "metadata": {},
   "outputs": [],
   "source": [
    "\n",
    "\n",
    "def row_level_locking(id):\n",
    "    \n",
    "    conn = psycopg2.connect(DB_PARAMS)\n",
    "    cur = conn.cursor()\n",
    "    \n",
    "    for _ in range(10_000):\n",
    "        cur.execute(\"SELECT counter FROM user_counter WHERE user_id = %s FOR UPDATE\", (id,))\n",
    "        counter = cur.fetchone()[0] + 1\n",
    "      \n",
    "        cur.execute(\"UPDATE user_counter SET counter = %s WHERE user_id = %s\", (counter, id))\n",
    "\n",
    "        conn.commit() \n",
    "\n",
    "    cur.close()\n",
    "    conn.close()"
   ]
  },
  {
   "cell_type": "code",
   "execution_count": 32,
   "metadata": {},
   "outputs": [
    {
     "name": "stdout",
     "output_type": "stream",
     "text": [
      "--- 22.4100239276886 seconds ---\n",
      "Кінцеве значення каунтера = 100000, для user_id = 1\n"
     ]
    }
   ],
   "source": [
    "restart_db()\n",
    "print_time_counter(row_level_locking, 1)"
   ]
  },
  {
   "cell_type": "markdown",
   "metadata": {},
   "source": [
    "Optimistic concurrency control"
   ]
  },
  {
   "cell_type": "code",
   "execution_count": 35,
   "metadata": {},
   "outputs": [],
   "source": [
    "\n",
    "def optimistic_concurrency_control(id):\n",
    "   \n",
    "    conn = psycopg2.connect(DB_PARAMS)\n",
    "    cur = conn.cursor()\n",
    "    \n",
    "    for _ in range(10_000):\n",
    "        while True:\n",
    "            cur.execute(\"SELECT counter, version FROM user_counter WHERE user_id = %s\", (id,))\n",
    "            counter, version =cur.fetchone()\n",
    "            counter += 1\n",
    "            cur.execute(\"update user_counter set counter = %s, version = %s where user_id = %s and version = %s\", (counter, version + 1, id, version))\n",
    "            conn.commit()\n",
    "            count = cur.rowcount\n",
    "            if count > 0:\n",
    "                break\n",
    "            \n",
    "        \n",
    "    cur.close()\n",
    "    conn.close()"
   ]
  },
  {
   "cell_type": "code",
   "execution_count": 36,
   "metadata": {},
   "outputs": [
    {
     "name": "stdout",
     "output_type": "stream",
     "text": [
      "--- 95.89759922027588 seconds ---\n",
      "Кінцеве значення каунтера = 100000, для user_id = 1\n"
     ]
    }
   ],
   "source": [
    "restart_db()\n",
    "print_time_counter(optimistic_concurrency_control, 1)"
   ]
  }
 ],
 "metadata": {
  "kernelspec": {
   "display_name": "Python 3.13.2 64-bit",
   "language": "python",
   "name": "python3"
  },
  "language_info": {
   "codemirror_mode": {
    "name": "ipython",
    "version": 3
   },
   "file_extension": ".py",
   "mimetype": "text/x-python",
   "name": "python",
   "nbconvert_exporter": "python",
   "pygments_lexer": "ipython3",
   "version": "3.13.2"
  },
  "vscode": {
   "interpreter": {
    "hash": "d4bbdf29520b3d67cff263e792f2fd795f49648c29f80d3527f4535179b109b6"
   }
  }
 },
 "nbformat": 4,
 "nbformat_minor": 2
}
